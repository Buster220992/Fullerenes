{
 "cells": [
  {
   "cell_type": "code",
   "execution_count": null,
   "metadata": {},
   "outputs": [],
   "source": [
    "import unittest \n",
    "import numpy as np\n",
    "import numpy.linalg as la\n",
    "from numpy import array, pi, cos, sin, sqrt, linspace\n",
    "from mpl_toolkits.mplot3d import Axes3D\n",
    "import matplotlib.pyplot as plt\n",
    "%load_ext autoreload\n",
    "%autoreload 2\n",
    "\n",
    "%matplotlib notebook\n",
    "\n",
    "import time\n",
    "\n",
    "from Fullerene_GeometryFunctions import *\n",
    "\n",
    "\n",
    "from IPython.core.display import display, HTML\n",
    "display(HTML(\"<style>.container { width:100% !important; }</style>\")) \n",
    "\n",
    "np.random.seed(22)\n",
    "\n",
    "NA = np.newaxis;\n"
   ]
  },
  {
   "cell_type": "markdown",
   "metadata": {},
   "source": [
    "# Import data"
   ]
  },
  {
   "cell_type": "code",
   "execution_count": null,
   "metadata": {},
   "outputs": [],
   "source": [
    "from C60ih import *\n",
    "print(points_opt.shape)\n",
    "print(cubic_neighbours.shape)\n",
    "print(pentagons.shape)\n",
    "print(hexagons.shape)"
   ]
  },
  {
   "cell_type": "code",
   "execution_count": null,
   "metadata": {},
   "outputs": [],
   "source": [
    "geom = read_geometry(\"C60_Ih_m062x_freq_symIh.log\")\n",
    "plotting_faces(geom,pentagons,hexagons,ap=0.3,ah=0.3,ax_off=True)\n",
    "print('DFT m062x optimized geometry')"
   ]
  },
  {
   "cell_type": "markdown",
   "metadata": {},
   "source": [
    "# Force field CGM"
   ]
  },
  {
   "cell_type": "markdown",
   "metadata": {},
   "source": [
    "### Calculate force const. from face information."
   ]
  },
  {
   "cell_type": "code",
   "execution_count": null,
   "metadata": {},
   "outputs": [],
   "source": [
    "## General force parameters\n",
    "R0,ang0,dih0,ang0_p,ang0_m,dih_a,dih_m,dih_p,fR,fang,fdih,fang_p,fang_m,fdih_a,fdih_m,fdih_p = Parameters_from_geometry(face_right,cubic_neighbours,False)\n",
    "\n",
    "## Seminario Force Parameters, for C60Ih\n",
    "# R0,ang0,dih0,ang0_p,ang0_m,dih_a,dih_m,dih_p,fR,fang,fdih,fang_p,fang_m,fdih_a,fdih_m,fdih_p = Parameters_from_geometry(face_right,cubic_neighbours,True)\n",
    "\n",
    "k0 = array([R0,ang0,dih0,ang0_p,ang0_m,dih_a,dih_m,dih_p])\n",
    "f0 = array([fR,fang,fdih,fang_p,fang_m,fdih_a,fdih_m,fdih_p])"
   ]
  },
  {
   "cell_type": "code",
   "execution_count": null,
   "metadata": {
    "collapsed": true
   },
   "outputs": [],
   "source": [
    "def conjugate_gradient(X, neighbours,next_on_face, prev_on_face,k0,f0, N_max,UseAll): \n",
    "\n",
    "    d = -gradient(X,neighbours,next_on_face, prev_on_face,k0,f0,UseAll)\n",
    "    r0 = d; #initial residual \n",
    "    d /= la.norm(d) # Normalized initial search direction\n",
    "    \n",
    "    #Save geometries for plotting\n",
    "    xGeom = np.empty(0)  \n",
    "    \n",
    "    \n",
    "    dnorm = la.norm(d) #initial dnorm = 1.\n",
    "    \n",
    "    N=0;\n",
    "    while dnorm > 1e-7: ## Stop if gradient gets bellow threshold.\n",
    "\n",
    "        N+=1\n",
    "        xGeom = np.append(xGeom,X) ## Save geometries.\n",
    "        \n",
    "        ## Bisection line search\n",
    "        alpha, X_1, r1 = Bisection_search(d,X,neighbours,next_on_face, prev_on_face,k0,f0,0,0.00001,1000,1e-10,N,UseAll) \n",
    "            \n",
    "        ##Polak-Ribiére\n",
    "        beta = max(PolakRibiere(r0,r1),0)\n",
    "\n",
    "          ##Steepest descend\n",
    "#         beta = 0 \n",
    "\n",
    "          ##Fletcher-Reeves\n",
    "#         beta = FletcherReeves(r0,r1)\n",
    "\n",
    "        ## If energy is increased, start over with beta = 0.\n",
    "        if energy(X_1,neighbours,k0,f0) > energy(X,neighbours,k0,f0):\n",
    "            beta = 0  \n",
    "            X_1  = X\n",
    "            r1   = r0\n",
    "\n",
    "        \n",
    "        d = r1 + beta*d ## Conjugate the search direction\n",
    "        d /= la.norm(d) #Normalizes new search direction\n",
    "        \n",
    "        \n",
    "        r0 = r1 \n",
    "        X = X_1\n",
    "        \n",
    "        \n",
    "        ## If the number of itereations goes above 10*Natoms stop.\n",
    "        dnorm = la.norm((r1))\n",
    "        if N == N_max*10: \n",
    "            print(dnorm)\n",
    "            return X, r1, N, xGeom  \n",
    "        \n",
    "        \n",
    "    return X, r1, N, xGeom"
   ]
  },
  {
   "cell_type": "markdown",
   "metadata": {},
   "source": [
    "## Optimize C60 initial geometry"
   ]
  },
  {
   "cell_type": "code",
   "execution_count": null,
   "metadata": {
    "collapsed": true
   },
   "outputs": [],
   "source": [
    "## Wu and Wirz force fields\n",
    "# X_wu, _, _, All_X_wu      = conjugate_gradient(points_start, cubic_neighbours,next_on_face, prev_on_face,k0,f0, len(points_start),0)\n",
    "# X_wirz, _, _, All_X_wirz  = conjugate_gradient(points_start, cubic_neighbours,next_on_face, prev_on_face,k0,f0, len(points_start),1)\n"
   ]
  },
  {
   "cell_type": "code",
   "execution_count": null,
   "metadata": {},
   "outputs": [],
   "source": [
    "## corrected Wirz method\n",
    "X, d_end, N_itt, All_X  = conjugate_gradient(points_start, cubic_neighbours,next_on_face, prev_on_face,k0,f0, len(points_start),2)\n",
    "print(f'Energy end:    {energy(X,cubic_neighbours,k0,f0)}')\n",
    "print(f'gradient norm: {la.norm(d_end)}')\n",
    "print(f'Iterations until convergance: {N_itt}')\n"
   ]
  },
  {
   "cell_type": "code",
   "execution_count": null,
   "metadata": {},
   "outputs": [],
   "source": [
    "## Calculate intrinsic properties of DFT and FF optimized geometries\n",
    "Rdft, Ddft = edge_displacements(geom,cubic_neighbours)\n",
    "Ruv, Duv = edge_displacements(X,cubic_neighbours)\n",
    "\n",
    "ang_dft = corner_cos_angles(Ddft)\n",
    "ang = corner_cos_angles(Duv)\n",
    "\n",
    "dih_dft = dihedral_cos_angles(Ddft,Rdft)\n",
    "dih = dihedral_cos_angles(Duv,Ruv)\n",
    "\n",
    "N = len(points_start)\n",
    "\n",
    "print('RMS-errors')\n",
    "print(f'R:        {np.sum((Rdft - Ruv)**2)/(N)     } Angstrom\\n'  )\n",
    "print(f'angle:    {np.sum((ang_dft - ang)**2)/(N)} Degrees\\n'  )\n",
    "print(f'dih:      {np.sum((dih_dft - dih)**2)/(N)} Degrees'  )"
   ]
  },
  {
   "cell_type": "markdown",
   "metadata": {},
   "source": [
    "### Plotting energies at each iteration"
   ]
  },
  {
   "cell_type": "code",
   "execution_count": null,
   "metadata": {},
   "outputs": [],
   "source": [
    "from mpl_toolkits.axes_grid.inset_locator import inset_axes\n",
    "from mpl_toolkits.axes_grid1.inset_locator import mark_inset\n",
    "\n",
    "    \n",
    "XG= All_X.reshape(N_itt,len(points_opt),3)\n",
    "Geometry_Energy = np.empty(0)\n",
    "\n",
    "for i in range(len(XG)):\n",
    "    Geometry_Energy = np.append(Geometry_Energy,energy(XG[i,:,:],cubic_neighbours,k0,f0))\n",
    "\n",
    "    \n",
    "fig = plt.figure()\n",
    "Itt = np.linspace(0,N_itt,N_itt)\n",
    "\n",
    "ax = plt.subplot(111)\n",
    "\n",
    "ax.semilogy(Itt,Geometry_Energy,label='Corrected Wirz',color='orange')\n",
    "\n",
    "ax.spines['right'].set_visible(False)\n",
    "ax.spines['top'].set_visible(False)\n",
    "ax.set_ylabel('Log(E)',fontsize=15)\n",
    "ax.set_xlabel('# Iterations',fontsize=15)\n",
    "\n",
    "ax.legend(loc='upper right',edgecolor='k',frameon=False)\n",
    "\n",
    "plt.show()"
   ]
  },
  {
   "cell_type": "markdown",
   "metadata": {},
   "source": [
    "## Geometry of Force field optimized C60Ih"
   ]
  },
  {
   "cell_type": "code",
   "execution_count": null,
   "metadata": {},
   "outputs": [],
   "source": [
    "plotting_faces(X,pentagons,hexagons,ap=0.3,ah=0.3,ax_off=True)\n"
   ]
  }
 ],
 "metadata": {
  "kernelspec": {
   "display_name": "Python 3",
   "language": "python",
   "name": "python3"
  },
  "language_info": {
   "codemirror_mode": {
    "name": "ipython",
    "version": 3
   },
   "file_extension": ".py",
   "mimetype": "text/x-python",
   "name": "python",
   "nbconvert_exporter": "python",
   "pygments_lexer": "ipython3",
   "version": "3.6.3"
  }
 },
 "nbformat": 4,
 "nbformat_minor": 2
}
